{
  "nbformat": 4,
  "nbformat_minor": 0,
  "metadata": {
    "colab": {
      "name": "copy of Hamoye stage 4 Data Science ",
      "provenance": [],
      "collapsed_sections": []
    },
    "kernelspec": {
      "name": "python3",
      "display_name": "Python 3"
    }
  },
  "cells": [
    {
      "cell_type": "code",
      "metadata": {
        "id": "tbi3Aj91w3Nd",
        "colab_type": "code",
        "colab": {
          "base_uri": "https://localhost:8080/",
          "height": 230
        },
        "outputId": "5ac43135-5556-47a5-940c-5e1d3b2ec8e5"
      },
      "source": [
        "pip install kaggle"
      ],
      "execution_count": null,
      "outputs": [
        {
          "output_type": "stream",
          "text": [
            "Requirement already satisfied: kaggle in /usr/local/lib/python3.6/dist-packages (1.5.8)\n",
            "Requirement already satisfied: requests in /usr/local/lib/python3.6/dist-packages (from kaggle) (2.23.0)\n",
            "Requirement already satisfied: python-slugify in /usr/local/lib/python3.6/dist-packages (from kaggle) (4.0.1)\n",
            "Requirement already satisfied: six>=1.10 in /usr/local/lib/python3.6/dist-packages (from kaggle) (1.15.0)\n",
            "Requirement already satisfied: certifi in /usr/local/lib/python3.6/dist-packages (from kaggle) (2020.6.20)\n",
            "Requirement already satisfied: python-dateutil in /usr/local/lib/python3.6/dist-packages (from kaggle) (2.8.1)\n",
            "Requirement already satisfied: urllib3<1.25,>=1.21.1 in /usr/local/lib/python3.6/dist-packages (from kaggle) (1.24.3)\n",
            "Requirement already satisfied: slugify in /usr/local/lib/python3.6/dist-packages (from kaggle) (0.0.1)\n",
            "Requirement already satisfied: tqdm in /usr/local/lib/python3.6/dist-packages (from kaggle) (4.41.1)\n",
            "Requirement already satisfied: idna<3,>=2.5 in /usr/local/lib/python3.6/dist-packages (from requests->kaggle) (2.10)\n",
            "Requirement already satisfied: chardet<4,>=3.0.2 in /usr/local/lib/python3.6/dist-packages (from requests->kaggle) (3.0.4)\n",
            "Requirement already satisfied: text-unidecode>=1.3 in /usr/local/lib/python3.6/dist-packages (from python-slugify->kaggle) (1.3)\n"
          ],
          "name": "stdout"
        }
      ]
    },
    {
      "cell_type": "code",
      "metadata": {
        "id": "ZPbxXraPyDY8",
        "colab_type": "code",
        "colab": {
          "resources": {
            "http://localhost:8080/nbextensions/google.colab/files.js": {
              "data": "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",
              "ok": true,
              "headers": [
                [
                  "content-type",
                  "application/javascript"
                ]
              ],
              "status": 200,
              "status_text": ""
            }
          },
          "base_uri": "https://localhost:8080/",
          "height": 91
        },
        "outputId": "cfba7523-7f01-4e1d-d21f-57838473f368"
      },
      "source": [
        "from google.colab import files\n",
        "files.upload()"
      ],
      "execution_count": null,
      "outputs": [
        {
          "output_type": "display_data",
          "data": {
            "text/html": [
              "\n",
              "     <input type=\"file\" id=\"files-5205577a-e12c-4771-b956-34b0cd4fc3b8\" name=\"files[]\" multiple disabled\n",
              "        style=\"border:none\" />\n",
              "     <output id=\"result-5205577a-e12c-4771-b956-34b0cd4fc3b8\">\n",
              "      Upload widget is only available when the cell has been executed in the\n",
              "      current browser session. Please rerun this cell to enable.\n",
              "      </output>\n",
              "      <script src=\"/nbextensions/google.colab/files.js\"></script> "
            ],
            "text/plain": [
              "<IPython.core.display.HTML object>"
            ]
          },
          "metadata": {
            "tags": []
          }
        },
        {
          "output_type": "stream",
          "text": [
            "Saving kaggle.json to kaggle.json\n"
          ],
          "name": "stdout"
        },
        {
          "output_type": "execute_result",
          "data": {
            "text/plain": [
              "{'kaggle.json': b'{\"username\":\"ogochukwuchidolue\",\"key\":\"953053ec640ec6dbbc37268f67eeb938\"}'}"
            ]
          },
          "metadata": {
            "tags": []
          },
          "execution_count": 2
        }
      ]
    },
    {
      "cell_type": "code",
      "metadata": {
        "id": "Bj_t8oIRy0Bd",
        "colab_type": "code",
        "colab": {}
      },
      "source": [
        "!mkdir -p ~/.kaggle\n",
        "!cp kaggle.json ~/.kaggle/"
      ],
      "execution_count": null,
      "outputs": []
    },
    {
      "cell_type": "code",
      "metadata": {
        "id": "_eVol1_n0JIX",
        "colab_type": "code",
        "colab": {}
      },
      "source": [
        "!chmod 600 ~/.kaggle/kaggle.json"
      ],
      "execution_count": null,
      "outputs": []
    },
    {
      "cell_type": "code",
      "metadata": {
        "id": "g16VHPmV1Id3",
        "colab_type": "code",
        "colab": {
          "base_uri": "https://localhost:8080/",
          "height": 301
        },
        "outputId": "3de16127-4c86-4bb3-8af0-8eda275ba59b"
      },
      "source": [
        "!kaggle competitions download -c planet-understanding-the-amazon-from-space"
      ],
      "execution_count": null,
      "outputs": [
        {
          "output_type": "stream",
          "text": [
            "Warning: Looks like you're using an outdated API Version, please consider updating (server 1.5.6 / client 1.5.4)\n",
            "Downloading sample_submission_v2.csv.zip to /content\n",
            "  0% 0.00/148k [00:00<?, ?B/s]\n",
            "100% 148k/148k [00:00<00:00, 21.8MB/s]\n",
            "Downloading test_v2_file_mapping.csv to /content\n",
            "  0% 0.00/600k [00:00<?, ?B/s]\n",
            "100% 600k/600k [00:00<00:00, 83.5MB/s]\n",
            "Downloading train_v2.csv.zip to /content\n",
            "  0% 0.00/151k [00:00<?, ?B/s]\n",
            "100% 151k/151k [00:00<00:00, 46.1MB/s]\n",
            "Downloading Kaggle-planet-test-tif.torrent.zip to /content\n",
            "  0% 0.00/1.52M [00:00<?, ?B/s]\n",
            "100% 1.52M/1.52M [00:00<00:00, 101MB/s]\n",
            "Downloading Kaggle-planet-train-tif.torrent.zip to /content\n",
            "  0% 0.00/1.01M [00:00<?, ?B/s]\n",
            "100% 1.01M/1.01M [00:00<00:00, 141MB/s]\n"
          ],
          "name": "stdout"
        }
      ]
    },
    {
      "cell_type": "code",
      "metadata": {
        "id": "hj3C7RkF3CKu",
        "colab_type": "code",
        "colab": {
          "base_uri": "https://localhost:8080/",
          "height": 87
        },
        "outputId": "740721a2-4d45-42a3-df4e-c3b7b12f09e2"
      },
      "source": [
        "!ls"
      ],
      "execution_count": null,
      "outputs": [
        {
          "output_type": "stream",
          "text": [
            "kaggle.json\t\t\t     sample_submission_v2.csv.zip\n",
            "Kaggle-planet-test-tif.torrent.zip   test_v2_file_mapping.csv\n",
            "Kaggle-planet-train-tif.torrent.zip  train_v2.csv.zip\n",
            "sample_data\n"
          ],
          "name": "stdout"
        }
      ]
    },
    {
      "cell_type": "code",
      "metadata": {
        "id": "OC_jThnR3OR0",
        "colab_type": "code",
        "colab": {
          "base_uri": "https://localhost:8080/",
          "height": 247
        },
        "outputId": "6c3735cb-397c-4807-8e12-a2e0fbcf8f5d"
      },
      "source": [
        "!unzip \\*.zip && rm *.zip"
      ],
      "execution_count": null,
      "outputs": [
        {
          "output_type": "stream",
          "text": [
            "Archive:  train_v2.csv.zip\n",
            "  inflating: train_v2.csv            \n",
            "\n",
            "Archive:  Kaggle-planet-test-tif.torrent.zip\n",
            "  inflating: Kaggle-planet-test-tif.torrent  \n",
            "\n",
            "Archive:  Kaggle-planet-train-tif.torrent.zip\n",
            "  inflating: Kaggle-planet-train-tif.torrent  \n",
            "\n",
            "Archive:  sample_submission_v2.csv.zip\n",
            "  inflating: sample_submission_v2.csv  \n",
            "\n",
            "4 archives were successfully processed.\n"
          ],
          "name": "stdout"
        }
      ]
    },
    {
      "cell_type": "code",
      "metadata": {
        "id": "cAg6X1vW3dy3",
        "colab_type": "code",
        "colab": {}
      },
      "source": [
        "import numpy as np\n",
        "import matplotlib.pyplot as plt\n",
        "import tensorflow as tf\n",
        "from tensorflow import keras"
      ],
      "execution_count": null,
      "outputs": []
    },
    {
      "cell_type": "code",
      "metadata": {
        "id": "FybRIHGl39cX",
        "colab_type": "code",
        "colab": {
          "base_uri": "https://localhost:8080/",
          "height": 52
        },
        "outputId": "9fdab92d-fe38-4174-cbe0-f1535d5f6c2c"
      },
      "source": [
        "mnist= keras.datasets.mnist\n",
        "(train_images, train_labels), (test_images, test_labels)=mnist.load_data()"
      ],
      "execution_count": null,
      "outputs": [
        {
          "output_type": "stream",
          "text": [
            "Downloading data from https://storage.googleapis.com/tensorflow/tf-keras-datasets/mnist.npz\n",
            "11493376/11490434 [==============================] - 0s 0us/step\n"
          ],
          "name": "stdout"
        }
      ]
    },
    {
      "cell_type": "code",
      "metadata": {
        "id": "9fvK4olq4hop",
        "colab_type": "code",
        "colab": {
          "base_uri": "https://localhost:8080/",
          "height": 34
        },
        "outputId": "52433442-cf2a-4626-d3ca-c1c0f056a8eb"
      },
      "source": [
        "print(\"Training data: {} {}\".format(train_images.shape, train_labels.shape))"
      ],
      "execution_count": null,
      "outputs": [
        {
          "output_type": "stream",
          "text": [
            "Training data: (60000, 28, 28) (60000,)\n"
          ],
          "name": "stdout"
        }
      ]
    },
    {
      "cell_type": "code",
      "metadata": {
        "id": "HA3JFYHI5K0M",
        "colab_type": "code",
        "colab": {
          "base_uri": "https://localhost:8080/",
          "height": 34
        },
        "outputId": "c1cbf04e-4024-4b56-96f5-07c80f42e689"
      },
      "source": [
        "print(\"Test data: {}, {}\".format(test_images.shape, test_labels.shape))"
      ],
      "execution_count": null,
      "outputs": [
        {
          "output_type": "stream",
          "text": [
            "Test data: (10000, 28, 28), (10000,)\n"
          ],
          "name": "stdout"
        }
      ]
    },
    {
      "cell_type": "code",
      "metadata": {
        "id": "YOpXy9E76Mkw",
        "colab_type": "code",
        "colab": {
          "base_uri": "https://localhost:8080/",
          "height": 34
        },
        "outputId": "48b9ec68-f588-4606-8e7f-b80262e9ad20"
      },
      "source": [
        "class_labels = np.unique(train_labels)\n",
        "print(\"There are {} classes in the dataset. They are: {}\".format(len(class_labels), class_labels))"
      ],
      "execution_count": null,
      "outputs": [
        {
          "output_type": "stream",
          "text": [
            "There are 10 classes in the dataset. They are: [0 1 2 3 4 5 6 7 8 9]\n"
          ],
          "name": "stdout"
        }
      ]
    },
    {
      "cell_type": "code",
      "metadata": {
        "id": "5evpbGEx7XKJ",
        "colab_type": "code",
        "colab": {
          "base_uri": "https://localhost:8080/",
          "height": 212
        },
        "outputId": "e52058d1-fb3f-443b-9bb2-1320be64ee01"
      },
      "source": [
        "plt.figure(figsize=(8,5))\n",
        "\n",
        "plt.subplot(1,3,1)\n",
        "plt.imshow(train_images[0])\n",
        "plt.title(\"Label: {}\".format(train_labels[0]))"
      ],
      "execution_count": null,
      "outputs": [
        {
          "output_type": "execute_result",
          "data": {
            "text/plain": [
              "Text(0.5, 1.0, 'Label: 5')"
            ]
          },
          "metadata": {
            "tags": []
          },
          "execution_count": 15
        },
        {
          "output_type": "display_data",
          "data": {
            "image/png": "[encoded data removed]",
            "text/plain": [
              "<Figure size 576x360 with 1 Axes>"
            ]
          },
          "metadata": {
            "tags": [],
            "needs_background": "light"
          }
        }
      ]
    },
    {
      "cell_type": "code",
      "metadata": {
        "id": "gUvRw5MM8Rjo",
        "colab_type": "code",
        "colab": {
          "base_uri": "https://localhost:8080/",
          "height": 180
        },
        "outputId": "b3ab2e33-7afb-412e-ee16-88e69907e036"
      },
      "source": [
        "plt.subplot(1,3,2)\n",
        "plt.imshow(train_images[2500])\n",
        "plt.title(\"Labeel: {}\".format(train_labels[2500]))"
      ],
      "execution_count": null,
      "outputs": [
        {
          "output_type": "execute_result",
          "data": {
            "text/plain": [
              "Text(0.5, 1.0, 'Labeel: 0')"
            ]
          },
          "metadata": {
            "tags": []
          },
          "execution_count": 16
        },
        {
          "output_type": "display_data",
          "data": {
            "image/png": "[encoded data removed]",
            "text/plain": [
              "<Figure size 432x288 with 1 Axes>"
            ]
          },
          "metadata": {
            "tags": [],
            "needs_background": "light"
          }
        }
      ]
    },
    {
      "cell_type": "code",
      "metadata": {
        "id": "cIFgSn0x86LC",
        "colab_type": "code",
        "colab": {
          "base_uri": "https://localhost:8080/",
          "height": 148
        },
        "outputId": "fd521fe6-e57a-4b06-e8b1-65e642c6f861"
      },
      "source": [
        "plt.subplot(1,3,3)\n",
        "plt.imshow(test_images[12])\n",
        "plt.show()"
      ],
      "execution_count": null,
      "outputs": [
        {
          "output_type": "display_data",
          "data": {
            "image/png": "[encoded data removed]",
            "text/plain": [
              "<Figure size 432x288 with 1 Axes>"
            ]
          },
          "metadata": {
            "tags": [],
            "needs_background": "light"
          }
        }
      ]
    },
    {
      "cell_type": "code",
      "metadata": {
        "id": "d2xH0icN9gZR",
        "colab_type": "code",
        "colab": {}
      },
      "source": [
        "train_images = train_images / 255.0\n",
        "tst_images = test_images / 255.0"
      ],
      "execution_count": null,
      "outputs": []
    },
    {
      "cell_type": "code",
      "metadata": {
        "id": "BrM7qH4e960c",
        "colab_type": "code",
        "colab": {
          "base_uri": "https://localhost:8080/",
          "height": 87
        },
        "outputId": "db476f6c-1792-402e-864c-36b4f24e2397"
      },
      "source": [
        "x_train = train_images[0:50000]\n",
        "x_val = train_images[50000:]\n",
        "y_train = train_labels[0:50000]\n",
        "y_val = train_labels[50000:]\n",
        "\n",
        "print(\"x_train: {}\".format(x_train.shape))\n",
        "print(\"x_val: {}\".format(x_val.shape))\n",
        "print(\"y_train: {}\".format(y_train.shape))\n",
        "print(\"y_val: {}\".format(y_val.shape))"
      ],
      "execution_count": null,
      "outputs": [
        {
          "output_type": "stream",
          "text": [
            "x_train: (50000, 28, 28)\n",
            "x_val: (10000, 28, 28)\n",
            "y_train: (50000,)\n",
            "y_val: (10000,)\n"
          ],
          "name": "stdout"
        }
      ]
    },
    {
      "cell_type": "code",
      "metadata": {
        "id": "vn4QSGll_ssj",
        "colab_type": "code",
        "colab": {}
      },
      "source": [
        "from tensorflow.keras.utils import to_categorical\n",
        "no_labels = 10\n",
        "y_train = to_categorical(y_train, no_labels)\n",
        "y_val = to_categorical(y_val, no_labels)\n",
        "y_test = to_categorical(test_labels, no_labels)"
      ],
      "execution_count": null,
      "outputs": []
    },
    {
      "cell_type": "code",
      "metadata": {
        "id": "-I3rOTPHBq6V",
        "colab_type": "code",
        "colab": {
          "base_uri": "https://localhost:8080/",
          "height": 70
        },
        "outputId": "498fd8d4-9297-4228-86ab-1bd9d16d7179"
      },
      "source": [
        "new_dimension = np.prod(train_images.shape[1:])\n",
        "x_train = x_train.reshape(x_train.shape[0], new_dimension)\n",
        "x_val = x_val.reshape(x_val.shape[0], new_dimension)\n",
        "test_images = test_images.reshape(test_images.shape[0], new_dimension)\n",
        "\n",
        "print(\"x_train: {}\".format(x_train.shape))\n",
        "print(\"x_val: {}\".format(x_val.shape))\n",
        "print(\"test_mages: {}\".format(test_images.shape))"
      ],
      "execution_count": null,
      "outputs": [
        {
          "output_type": "stream",
          "text": [
            "x_train: (50000, 784)\n",
            "x_val: (10000, 784)\n",
            "test_mages: (10000, 784)\n"
          ],
          "name": "stdout"
        }
      ]
    },
    {
      "cell_type": "code",
      "metadata": {
        "id": "HhzkffGkDSu4",
        "colab_type": "code",
        "colab": {
          "base_uri": "https://localhost:8080/",
          "height": 90
        },
        "outputId": "8a2eafec-64e6-48b0-ce32-7d0d38631d04"
      },
      "source": [
        "import tensorflow.compat.v1 as tf\n",
        "tf.disable_v2_behavior()\n",
        "X = tf.placeholder(tf.float32, [None, new_dimension])\n",
        "Y = tf.placeholder(tf.float32, [None, no_labels])"
      ],
      "execution_count": null,
      "outputs": [
        {
          "output_type": "stream",
          "text": [
            "WARNING:tensorflow:From /usr/local/lib/python3.6/dist-packages/tensorflow/python/compat/v2_compat.py:96: disable_resource_variables (from tensorflow.python.ops.variable_scope) is deprecated and will be removed in a future version.\n",
            "Instructions for updating:\n",
            "non-resource variables are not supported in the long term\n"
          ],
          "name": "stdout"
        }
      ]
    },
    {
      "cell_type": "code",
      "metadata": {
        "id": "gWjufQLBETef",
        "colab_type": "code",
        "colab": {}
      },
      "source": [
        "def multilayer_perceptron (x, no_classes, first_layer_neurons=256, second_layer_neurons=128):\n",
        "     #first layer \n",
        "    first_weight = tf.Variable(tf.random_uniform([new_dimension, first_layer_neurons]))\n",
        "    first_bias = tf.Variable(tf.zeros([first_layer_neurons]))\n",
        "    first_layer_output = tf.nn.relu(tf.add(tf.matmul(x, first_weight), first_bias))\n",
        "    #second layer\n",
        "    second_weight = tf.Variable(tf.random_uniform([first_layer_neurons,second_layer_neurons]))\n",
        "    second_bias = tf.Variable(tf.zeros([second_layer_neurons]))\n",
        "    second_layer_output = tf.nn.relu(tf.add(tf.matmul(first_layer_output, second_weight), second_bias))\n",
        "    #output layer \n",
        "    final_weight = tf.Variable(tf.random_uniform([second_layer_neurons, no_classes]))\n",
        "    final_bias = tf.Variable(tf.zeros([no_classes]))\n",
        "    logits = tf.add(tf.matmul(second_layer_output, final_weight), final_bias)\n",
        "\n",
        "    return logits"
      ],
      "execution_count": null,
      "outputs": []
    },
    {
      "cell_type": "code",
      "metadata": {
        "id": "__bu9HlwN-C2",
        "colab_type": "code",
        "colab": {
          "base_uri": "https://localhost:8080/",
          "height": 178
        },
        "outputId": "25a6a891-c453-4461-f6c0-8073e658bf6e"
      },
      "source": [
        "logits = multilayer_perceptron(X, no_labels)\n",
        "learning_rate = 0.01\n",
        "#to define the function and optimiser for the network\n",
        "loss_op = tf.reduce_mean(tf.nn.softmax_cross_entropy_with_logits(logits = logits, labels=Y))\n",
        "optimiser = tf.train.AdamOptimizer(learning_rate=learning_rate)\n",
        "train_op = optimiser.minimize(loss_op)\n"
      ],
      "execution_count": null,
      "outputs": [
        {
          "output_type": "stream",
          "text": [
            "WARNING:tensorflow:From /usr/local/lib/python3.6/dist-packages/tensorflow/python/util/dispatch.py:201: softmax_cross_entropy_with_logits (from tensorflow.python.ops.nn_ops) is deprecated and will be removed in a future version.\n",
            "Instructions for updating:\n",
            "\n",
            "Future major versions of TensorFlow will allow gradients to flow\n",
            "into the labels input on backprop by default.\n",
            "\n",
            "See `tf.nn.softmax_cross_entropy_with_logits_v2`.\n",
            "\n"
          ],
          "name": "stdout"
        }
      ]
    },
    {
      "cell_type": "code",
      "metadata": {
        "id": "WgHRG6i8P-8b",
        "colab_type": "code",
        "colab": {
          "base_uri": "https://localhost:8080/",
          "height": 1000
        },
        "outputId": "2efe2f92-f862-4eba-b5ce-cb526be852af"
      },
      "source": [
        "#initialise the variables \n",
        "init = tf.global_variables_initializer()\n",
        "\n",
        "epochs = 20\n",
        "batch_size = 1000\n",
        "iteration = len(x_train)// batch_size\n",
        "#train model\n",
        "with tf.Session() as session:\n",
        "  session.run(init)\n",
        "  for epoch in range(epochs):\n",
        "    average_cost = 0 \n",
        "    start, end = 0, batch_size\n",
        "    for i in range(iteration):\n",
        "      batch_x, batch_y = x_train[start: end], y_train[start: end]\n",
        "      _, loss = session.run([train_op, loss_op], feed_dict={X: batch_x, Y: batch_y})\n",
        "      start += batch_size\n",
        "      end += batch_size\n",
        "      #average loss\n",
        "      average_cost += loss/iteration\n",
        "      print(\"Epoch======== {}\".format(epoch))\n",
        "      #evaluate model\n",
        "  prediction = tf.nn.softmax(logits)\n",
        "  ground_truth = tf.equal(tf.argmax(prediction, 1), tf.argmax(Y, 1))\n",
        "  accuracy = tf.reduce_mean(tf.cast(ground_truth, \"float\"))\n",
        "  print(\"Accuracy: {}\".format(accuracy.eval({X: test_images, Y: y_test})))"
      ],
      "execution_count": null,
      "outputs": [
        {
          "output_type": "stream",
          "text": [
            "Epoch======== 0\n",
            "Epoch======== 0\n",
            "Epoch======== 0\n",
            "Epoch======== 0\n",
            "Epoch======== 0\n",
            "Epoch======== 0\n",
            "Epoch======== 0\n",
            "Epoch======== 0\n",
            "Epoch======== 0\n",
            "Epoch======== 0\n",
            "Epoch======== 0\n",
            "Epoch======== 0\n",
            "Epoch======== 0\n",
            "Epoch======== 0\n",
            "Epoch======== 0\n",
            "Epoch======== 0\n",
            "Epoch======== 0\n",
            "Epoch======== 0\n",
            "Epoch======== 0\n",
            "Epoch======== 0\n",
            "Epoch======== 0\n",
            "Epoch======== 0\n",
            "Epoch======== 0\n",
            "Epoch======== 0\n",
            "Epoch======== 0\n",
            "Epoch======== 0\n",
            "Epoch======== 0\n",
            "Epoch======== 0\n",
            "Epoch======== 0\n",
            "Epoch======== 0\n",
            "Epoch======== 0\n",
            "Epoch======== 0\n",
            "Epoch======== 0\n",
            "Epoch======== 0\n",
            "Epoch======== 0\n",
            "Epoch======== 0\n",
            "Epoch======== 0\n",
            "Epoch======== 0\n",
            "Epoch======== 0\n",
            "Epoch======== 0\n",
            "Epoch======== 0\n",
            "Epoch======== 0\n",
            "Epoch======== 0\n",
            "Epoch======== 0\n",
            "Epoch======== 0\n",
            "Epoch======== 0\n",
            "Epoch======== 0\n",
            "Epoch======== 0\n",
            "Epoch======== 0\n",
            "Epoch======== 0\n",
            "Epoch======== 1\n",
            "Epoch======== 1\n",
            "Epoch======== 1\n",
            "Epoch======== 1\n",
            "Epoch======== 1\n",
            "Epoch======== 1\n",
            "Epoch======== 1\n",
            "Epoch======== 1\n",
            "Epoch======== 1\n",
            "Epoch======== 1\n",
            "Epoch======== 1\n",
            "Epoch======== 1\n",
            "Epoch======== 1\n",
            "Epoch======== 1\n",
            "Epoch======== 1\n",
            "Epoch======== 1\n",
            "Epoch======== 1\n",
            "Epoch======== 1\n",
            "Epoch======== 1\n",
            "Epoch======== 1\n",
            "Epoch======== 1\n",
            "Epoch======== 1\n",
            "Epoch======== 1\n",
            "Epoch======== 1\n",
            "Epoch======== 1\n",
            "Epoch======== 1\n",
            "Epoch======== 1\n",
            "Epoch======== 1\n",
            "Epoch======== 1\n",
            "Epoch======== 1\n",
            "Epoch======== 1\n",
            "Epoch======== 1\n",
            "Epoch======== 1\n",
            "Epoch======== 1\n",
            "Epoch======== 1\n",
            "Epoch======== 1\n",
            "Epoch======== 1\n",
            "Epoch======== 1\n",
            "Epoch======== 1\n",
            "Epoch======== 1\n",
            "Epoch======== 1\n",
            "Epoch======== 1\n",
            "Epoch======== 1\n",
            "Epoch======== 1\n",
            "Epoch======== 1\n",
            "Epoch======== 1\n",
            "Epoch======== 1\n",
            "Epoch======== 1\n",
            "Epoch======== 1\n",
            "Epoch======== 1\n",
            "Epoch======== 2\n",
            "Epoch======== 2\n",
            "Epoch======== 2\n",
            "Epoch======== 2\n",
            "Epoch======== 2\n",
            "Epoch======== 2\n",
            "Epoch======== 2\n",
            "Epoch======== 2\n",
            "Epoch======== 2\n",
            "Epoch======== 2\n",
            "Epoch======== 2\n",
            "Epoch======== 2\n",
            "Epoch======== 2\n",
            "Epoch======== 2\n",
            "Epoch======== 2\n",
            "Epoch======== 2\n",
            "Epoch======== 2\n",
            "Epoch======== 2\n",
            "Epoch======== 2\n",
            "Epoch======== 2\n",
            "Epoch======== 2\n",
            "Epoch======== 2\n",
            "Epoch======== 2\n",
            "Epoch======== 2\n",
            "Epoch======== 2\n",
            "Epoch======== 2\n",
            "Epoch======== 2\n",
            "Epoch======== 2\n",
            "Epoch======== 2\n",
            "Epoch======== 2\n",
            "Epoch======== 2\n",
            "Epoch======== 2\n",
            "Epoch======== 2\n",
            "Epoch======== 2\n",
            "Epoch======== 2\n",
            "Epoch======== 2\n",
            "Epoch======== 2\n",
            "Epoch======== 2\n",
            "Epoch======== 2\n",
            "Epoch======== 2\n",
            "Epoch======== 2\n",
            "Epoch======== 2\n",
            "Epoch======== 2\n",
            "Epoch======== 2\n",
            "Epoch======== 2\n",
            "Epoch======== 2\n",
            "Epoch======== 2\n",
            "Epoch======== 2\n",
            "Epoch======== 2\n",
            "Epoch======== 2\n",
            "Epoch======== 3\n",
            "Epoch======== 3\n",
            "Epoch======== 3\n",
            "Epoch======== 3\n",
            "Epoch======== 3\n",
            "Epoch======== 3\n",
            "Epoch======== 3\n",
            "Epoch======== 3\n",
            "Epoch======== 3\n",
            "Epoch======== 3\n",
            "Epoch======== 3\n",
            "Epoch======== 3\n",
            "Epoch======== 3\n",
            "Epoch======== 3\n",
            "Epoch======== 3\n",
            "Epoch======== 3\n",
            "Epoch======== 3\n",
            "Epoch======== 3\n",
            "Epoch======== 3\n",
            "Epoch======== 3\n",
            "Epoch======== 3\n",
            "Epoch======== 3\n",
            "Epoch======== 3\n",
            "Epoch======== 3\n",
            "Epoch======== 3\n",
            "Epoch======== 3\n",
            "Epoch======== 3\n",
            "Epoch======== 3\n",
            "Epoch======== 3\n",
            "Epoch======== 3\n",
            "Epoch======== 3\n",
            "Epoch======== 3\n",
            "Epoch======== 3\n",
            "Epoch======== 3\n",
            "Epoch======== 3\n",
            "Epoch======== 3\n",
            "Epoch======== 3\n",
            "Epoch======== 3\n",
            "Epoch======== 3\n",
            "Epoch======== 3\n",
            "Epoch======== 3\n",
            "Epoch======== 3\n",
            "Epoch======== 3\n",
            "Epoch======== 3\n",
            "Epoch======== 3\n",
            "Epoch======== 3\n",
            "Epoch======== 3\n",
            "Epoch======== 3\n",
            "Epoch======== 3\n",
            "Epoch======== 3\n",
            "Epoch======== 4\n",
            "Epoch======== 4\n",
            "Epoch======== 4\n",
            "Epoch======== 4\n",
            "Epoch======== 4\n",
            "Epoch======== 4\n",
            "Epoch======== 4\n",
            "Epoch======== 4\n",
            "Epoch======== 4\n",
            "Epoch======== 4\n",
            "Epoch======== 4\n",
            "Epoch======== 4\n",
            "Epoch======== 4\n",
            "Epoch======== 4\n",
            "Epoch======== 4\n",
            "Epoch======== 4\n",
            "Epoch======== 4\n",
            "Epoch======== 4\n",
            "Epoch======== 4\n",
            "Epoch======== 4\n",
            "Epoch======== 4\n",
            "Epoch======== 4\n",
            "Epoch======== 4\n",
            "Epoch======== 4\n",
            "Epoch======== 4\n",
            "Epoch======== 4\n",
            "Epoch======== 4\n",
            "Epoch======== 4\n",
            "Epoch======== 4\n",
            "Epoch======== 4\n",
            "Epoch======== 4\n",
            "Epoch======== 4\n",
            "Epoch======== 4\n",
            "Epoch======== 4\n",
            "Epoch======== 4\n",
            "Epoch======== 4\n",
            "Epoch======== 4\n",
            "Epoch======== 4\n",
            "Epoch======== 4\n",
            "Epoch======== 4\n",
            "Epoch======== 4\n",
            "Epoch======== 4\n",
            "Epoch======== 4\n",
            "Epoch======== 4\n",
            "Epoch======== 4\n",
            "Epoch======== 4\n",
            "Epoch======== 4\n",
            "Epoch======== 4\n",
            "Epoch======== 4\n",
            "Epoch======== 4\n",
            "Epoch======== 5\n",
            "Epoch======== 5\n",
            "Epoch======== 5\n",
            "Epoch======== 5\n",
            "Epoch======== 5\n",
            "Epoch======== 5\n",
            "Epoch======== 5\n",
            "Epoch======== 5\n",
            "Epoch======== 5\n",
            "Epoch======== 5\n",
            "Epoch======== 5\n",
            "Epoch======== 5\n",
            "Epoch======== 5\n",
            "Epoch======== 5\n",
            "Epoch======== 5\n",
            "Epoch======== 5\n",
            "Epoch======== 5\n",
            "Epoch======== 5\n",
            "Epoch======== 5\n",
            "Epoch======== 5\n",
            "Epoch======== 5\n",
            "Epoch======== 5\n",
            "Epoch======== 5\n",
            "Epoch======== 5\n",
            "Epoch======== 5\n",
            "Epoch======== 5\n",
            "Epoch======== 5\n",
            "Epoch======== 5\n",
            "Epoch======== 5\n",
            "Epoch======== 5\n",
            "Epoch======== 5\n",
            "Epoch======== 5\n",
            "Epoch======== 5\n",
            "Epoch======== 5\n",
            "Epoch======== 5\n",
            "Epoch======== 5\n",
            "Epoch======== 5\n",
            "Epoch======== 5\n",
            "Epoch======== 5\n",
            "Epoch======== 5\n",
            "Epoch======== 5\n",
            "Epoch======== 5\n",
            "Epoch======== 5\n",
            "Epoch======== 5\n",
            "Epoch======== 5\n",
            "Epoch======== 5\n",
            "Epoch======== 5\n",
            "Epoch======== 5\n",
            "Epoch======== 5\n",
            "Epoch======== 5\n",
            "Epoch======== 6\n",
            "Epoch======== 6\n",
            "Epoch======== 6\n",
            "Epoch======== 6\n",
            "Epoch======== 6\n",
            "Epoch======== 6\n",
            "Epoch======== 6\n",
            "Epoch======== 6\n",
            "Epoch======== 6\n",
            "Epoch======== 6\n",
            "Epoch======== 6\n",
            "Epoch======== 6\n",
            "Epoch======== 6\n",
            "Epoch======== 6\n",
            "Epoch======== 6\n",
            "Epoch======== 6\n",
            "Epoch======== 6\n",
            "Epoch======== 6\n",
            "Epoch======== 6\n",
            "Epoch======== 6\n",
            "Epoch======== 6\n",
            "Epoch======== 6\n",
            "Epoch======== 6\n",
            "Epoch======== 6\n",
            "Epoch======== 6\n",
            "Epoch======== 6\n",
            "Epoch======== 6\n",
            "Epoch======== 6\n",
            "Epoch======== 6\n",
            "Epoch======== 6\n",
            "Epoch======== 6\n",
            "Epoch======== 6\n",
            "Epoch======== 6\n",
            "Epoch======== 6\n",
            "Epoch======== 6\n",
            "Epoch======== 6\n",
            "Epoch======== 6\n",
            "Epoch======== 6\n",
            "Epoch======== 6\n",
            "Epoch======== 6\n",
            "Epoch======== 6\n",
            "Epoch======== 6\n",
            "Epoch======== 6\n",
            "Epoch======== 6\n",
            "Epoch======== 6\n",
            "Epoch======== 6\n",
            "Epoch======== 6\n",
            "Epoch======== 6\n",
            "Epoch======== 6\n",
            "Epoch======== 6\n",
            "Epoch======== 7\n",
            "Epoch======== 7\n",
            "Epoch======== 7\n",
            "Epoch======== 7\n",
            "Epoch======== 7\n",
            "Epoch======== 7\n",
            "Epoch======== 7\n",
            "Epoch======== 7\n",
            "Epoch======== 7\n",
            "Epoch======== 7\n",
            "Epoch======== 7\n",
            "Epoch======== 7\n",
            "Epoch======== 7\n",
            "Epoch======== 7\n",
            "Epoch======== 7\n",
            "Epoch======== 7\n",
            "Epoch======== 7\n",
            "Epoch======== 7\n",
            "Epoch======== 7\n",
            "Epoch======== 7\n",
            "Epoch======== 7\n",
            "Epoch======== 7\n",
            "Epoch======== 7\n",
            "Epoch======== 7\n",
            "Epoch======== 7\n",
            "Epoch======== 7\n",
            "Epoch======== 7\n",
            "Epoch======== 7\n",
            "Epoch======== 7\n",
            "Epoch======== 7\n",
            "Epoch======== 7\n",
            "Epoch======== 7\n",
            "Epoch======== 7\n",
            "Epoch======== 7\n",
            "Epoch======== 7\n",
            "Epoch======== 7\n",
            "Epoch======== 7\n",
            "Epoch======== 7\n",
            "Epoch======== 7\n",
            "Epoch======== 7\n",
            "Epoch======== 7\n",
            "Epoch======== 7\n",
            "Epoch======== 7\n",
            "Epoch======== 7\n",
            "Epoch======== 7\n",
            "Epoch======== 7\n",
            "Epoch======== 7\n",
            "Epoch======== 7\n",
            "Epoch======== 7\n",
            "Epoch======== 7\n",
            "Epoch======== 8\n",
            "Epoch======== 8\n",
            "Epoch======== 8\n",
            "Epoch======== 8\n",
            "Epoch======== 8\n",
            "Epoch======== 8\n",
            "Epoch======== 8\n",
            "Epoch======== 8\n",
            "Epoch======== 8\n",
            "Epoch======== 8\n",
            "Epoch======== 8\n",
            "Epoch======== 8\n",
            "Epoch======== 8\n",
            "Epoch======== 8\n",
            "Epoch======== 8\n",
            "Epoch======== 8\n",
            "Epoch======== 8\n",
            "Epoch======== 8\n",
            "Epoch======== 8\n",
            "Epoch======== 8\n",
            "Epoch======== 8\n",
            "Epoch======== 8\n",
            "Epoch======== 8\n",
            "Epoch======== 8\n",
            "Epoch======== 8\n",
            "Epoch======== 8\n",
            "Epoch======== 8\n",
            "Epoch======== 8\n",
            "Epoch======== 8\n",
            "Epoch======== 8\n",
            "Epoch======== 8\n",
            "Epoch======== 8\n",
            "Epoch======== 8\n",
            "Epoch======== 8\n",
            "Epoch======== 8\n",
            "Epoch======== 8\n",
            "Epoch======== 8\n",
            "Epoch======== 8\n",
            "Epoch======== 8\n",
            "Epoch======== 8\n",
            "Epoch======== 8\n",
            "Epoch======== 8\n",
            "Epoch======== 8\n",
            "Epoch======== 8\n",
            "Epoch======== 8\n",
            "Epoch======== 8\n",
            "Epoch======== 8\n",
            "Epoch======== 8\n",
            "Epoch======== 8\n",
            "Epoch======== 8\n",
            "Epoch======== 9\n",
            "Epoch======== 9\n",
            "Epoch======== 9\n",
            "Epoch======== 9\n",
            "Epoch======== 9\n",
            "Epoch======== 9\n",
            "Epoch======== 9\n",
            "Epoch======== 9\n",
            "Epoch======== 9\n",
            "Epoch======== 9\n",
            "Epoch======== 9\n",
            "Epoch======== 9\n",
            "Epoch======== 9\n",
            "Epoch======== 9\n",
            "Epoch======== 9\n",
            "Epoch======== 9\n",
            "Epoch======== 9\n",
            "Epoch======== 9\n",
            "Epoch======== 9\n",
            "Epoch======== 9\n",
            "Epoch======== 9\n",
            "Epoch======== 9\n",
            "Epoch======== 9\n",
            "Epoch======== 9\n",
            "Epoch======== 9\n",
            "Epoch======== 9\n",
            "Epoch======== 9\n",
            "Epoch======== 9\n",
            "Epoch======== 9\n",
            "Epoch======== 9\n",
            "Epoch======== 9\n",
            "Epoch======== 9\n",
            "Epoch======== 9\n",
            "Epoch======== 9\n",
            "Epoch======== 9\n",
            "Epoch======== 9\n",
            "Epoch======== 9\n",
            "Epoch======== 9\n",
            "Epoch======== 9\n",
            "Epoch======== 9\n",
            "Epoch======== 9\n",
            "Epoch======== 9\n",
            "Epoch======== 9\n",
            "Epoch======== 9\n",
            "Epoch======== 9\n",
            "Epoch======== 9\n",
            "Epoch======== 9\n",
            "Epoch======== 9\n",
            "Epoch======== 9\n",
            "Epoch======== 9\n",
            "Epoch======== 10\n",
            "Epoch======== 10\n",
            "Epoch======== 10\n",
            "Epoch======== 10\n",
            "Epoch======== 10\n",
            "Epoch======== 10\n",
            "Epoch======== 10\n",
            "Epoch======== 10\n",
            "Epoch======== 10\n",
            "Epoch======== 10\n",
            "Epoch======== 10\n",
            "Epoch======== 10\n",
            "Epoch======== 10\n",
            "Epoch======== 10\n",
            "Epoch======== 10\n",
            "Epoch======== 10\n",
            "Epoch======== 10\n",
            "Epoch======== 10\n",
            "Epoch======== 10\n",
            "Epoch======== 10\n",
            "Epoch======== 10\n",
            "Epoch======== 10\n",
            "Epoch======== 10\n",
            "Epoch======== 10\n",
            "Epoch======== 10\n",
            "Epoch======== 10\n",
            "Epoch======== 10\n",
            "Epoch======== 10\n",
            "Epoch======== 10\n",
            "Epoch======== 10\n",
            "Epoch======== 10\n",
            "Epoch======== 10\n",
            "Epoch======== 10\n",
            "Epoch======== 10\n",
            "Epoch======== 10\n",
            "Epoch======== 10\n",
            "Epoch======== 10\n",
            "Epoch======== 10\n",
            "Epoch======== 10\n",
            "Epoch======== 10\n",
            "Epoch======== 10\n",
            "Epoch======== 10\n",
            "Epoch======== 10\n",
            "Epoch======== 10\n",
            "Epoch======== 10\n",
            "Epoch======== 10\n",
            "Epoch======== 10\n",
            "Epoch======== 10\n",
            "Epoch======== 10\n",
            "Epoch======== 10\n",
            "Epoch======== 11\n",
            "Epoch======== 11\n",
            "Epoch======== 11\n",
            "Epoch======== 11\n",
            "Epoch======== 11\n",
            "Epoch======== 11\n",
            "Epoch======== 11\n",
            "Epoch======== 11\n",
            "Epoch======== 11\n",
            "Epoch======== 11\n",
            "Epoch======== 11\n",
            "Epoch======== 11\n",
            "Epoch======== 11\n",
            "Epoch======== 11\n",
            "Epoch======== 11\n",
            "Epoch======== 11\n",
            "Epoch======== 11\n",
            "Epoch======== 11\n",
            "Epoch======== 11\n",
            "Epoch======== 11\n",
            "Epoch======== 11\n",
            "Epoch======== 11\n",
            "Epoch======== 11\n",
            "Epoch======== 11\n",
            "Epoch======== 11\n",
            "Epoch======== 11\n",
            "Epoch======== 11\n",
            "Epoch======== 11\n",
            "Epoch======== 11\n",
            "Epoch======== 11\n",
            "Epoch======== 11\n",
            "Epoch======== 11\n",
            "Epoch======== 11\n",
            "Epoch======== 11\n",
            "Epoch======== 11\n",
            "Epoch======== 11\n",
            "Epoch======== 11\n",
            "Epoch======== 11\n",
            "Epoch======== 11\n",
            "Epoch======== 11\n",
            "Epoch======== 11\n",
            "Epoch======== 11\n",
            "Epoch======== 11\n",
            "Epoch======== 11\n",
            "Epoch======== 11\n",
            "Epoch======== 11\n",
            "Epoch======== 11\n",
            "Epoch======== 11\n",
            "Epoch======== 11\n",
            "Epoch======== 11\n",
            "Epoch======== 12\n",
            "Epoch======== 12\n",
            "Epoch======== 12\n",
            "Epoch======== 12\n",
            "Epoch======== 12\n",
            "Epoch======== 12\n",
            "Epoch======== 12\n",
            "Epoch======== 12\n",
            "Epoch======== 12\n",
            "Epoch======== 12\n",
            "Epoch======== 12\n",
            "Epoch======== 12\n",
            "Epoch======== 12\n",
            "Epoch======== 12\n",
            "Epoch======== 12\n",
            "Epoch======== 12\n",
            "Epoch======== 12\n",
            "Epoch======== 12\n",
            "Epoch======== 12\n",
            "Epoch======== 12\n",
            "Epoch======== 12\n",
            "Epoch======== 12\n",
            "Epoch======== 12\n",
            "Epoch======== 12\n",
            "Epoch======== 12\n",
            "Epoch======== 12\n",
            "Epoch======== 12\n",
            "Epoch======== 12\n",
            "Epoch======== 12\n",
            "Epoch======== 12\n",
            "Epoch======== 12\n",
            "Epoch======== 12\n",
            "Epoch======== 12\n",
            "Epoch======== 12\n",
            "Epoch======== 12\n",
            "Epoch======== 12\n",
            "Epoch======== 12\n",
            "Epoch======== 12\n",
            "Epoch======== 12\n",
            "Epoch======== 12\n",
            "Epoch======== 12\n",
            "Epoch======== 12\n",
            "Epoch======== 12\n",
            "Epoch======== 12\n",
            "Epoch======== 12\n",
            "Epoch======== 12\n",
            "Epoch======== 12\n",
            "Epoch======== 12\n",
            "Epoch======== 12\n",
            "Epoch======== 12\n",
            "Epoch======== 13\n",
            "Epoch======== 13\n",
            "Epoch======== 13\n",
            "Epoch======== 13\n",
            "Epoch======== 13\n",
            "Epoch======== 13\n",
            "Epoch======== 13\n",
            "Epoch======== 13\n",
            "Epoch======== 13\n",
            "Epoch======== 13\n",
            "Epoch======== 13\n",
            "Epoch======== 13\n",
            "Epoch======== 13\n",
            "Epoch======== 13\n",
            "Epoch======== 13\n",
            "Epoch======== 13\n",
            "Epoch======== 13\n",
            "Epoch======== 13\n",
            "Epoch======== 13\n",
            "Epoch======== 13\n",
            "Epoch======== 13\n",
            "Epoch======== 13\n",
            "Epoch======== 13\n",
            "Epoch======== 13\n",
            "Epoch======== 13\n",
            "Epoch======== 13\n",
            "Epoch======== 13\n",
            "Epoch======== 13\n",
            "Epoch======== 13\n",
            "Epoch======== 13\n",
            "Epoch======== 13\n",
            "Epoch======== 13\n",
            "Epoch======== 13\n",
            "Epoch======== 13\n",
            "Epoch======== 13\n",
            "Epoch======== 13\n",
            "Epoch======== 13\n",
            "Epoch======== 13\n",
            "Epoch======== 13\n",
            "Epoch======== 13\n",
            "Epoch======== 13\n",
            "Epoch======== 13\n",
            "Epoch======== 13\n",
            "Epoch======== 13\n",
            "Epoch======== 13\n",
            "Epoch======== 13\n",
            "Epoch======== 13\n",
            "Epoch======== 13\n",
            "Epoch======== 13\n",
            "Epoch======== 13\n",
            "Epoch======== 14\n",
            "Epoch======== 14\n",
            "Epoch======== 14\n",
            "Epoch======== 14\n",
            "Epoch======== 14\n",
            "Epoch======== 14\n",
            "Epoch======== 14\n",
            "Epoch======== 14\n",
            "Epoch======== 14\n",
            "Epoch======== 14\n",
            "Epoch======== 14\n",
            "Epoch======== 14\n",
            "Epoch======== 14\n",
            "Epoch======== 14\n",
            "Epoch======== 14\n",
            "Epoch======== 14\n",
            "Epoch======== 14\n",
            "Epoch======== 14\n",
            "Epoch======== 14\n",
            "Epoch======== 14\n",
            "Epoch======== 14\n",
            "Epoch======== 14\n",
            "Epoch======== 14\n",
            "Epoch======== 14\n",
            "Epoch======== 14\n",
            "Epoch======== 14\n",
            "Epoch======== 14\n",
            "Epoch======== 14\n",
            "Epoch======== 14\n",
            "Epoch======== 14\n",
            "Epoch======== 14\n",
            "Epoch======== 14\n",
            "Epoch======== 14\n",
            "Epoch======== 14\n",
            "Epoch======== 14\n",
            "Epoch======== 14\n",
            "Epoch======== 14\n",
            "Epoch======== 14\n",
            "Epoch======== 14\n",
            "Epoch======== 14\n",
            "Epoch======== 14\n",
            "Epoch======== 14\n",
            "Epoch======== 14\n",
            "Epoch======== 14\n",
            "Epoch======== 14\n",
            "Epoch======== 14\n",
            "Epoch======== 14\n",
            "Epoch======== 14\n",
            "Epoch======== 14\n",
            "Epoch======== 14\n",
            "Epoch======== 15\n",
            "Epoch======== 15\n",
            "Epoch======== 15\n",
            "Epoch======== 15\n",
            "Epoch======== 15\n",
            "Epoch======== 15\n",
            "Epoch======== 15\n",
            "Epoch======== 15\n",
            "Epoch======== 15\n",
            "Epoch======== 15\n",
            "Epoch======== 15\n",
            "Epoch======== 15\n",
            "Epoch======== 15\n",
            "Epoch======== 15\n",
            "Epoch======== 15\n",
            "Epoch======== 15\n",
            "Epoch======== 15\n",
            "Epoch======== 15\n",
            "Epoch======== 15\n",
            "Epoch======== 15\n",
            "Epoch======== 15\n",
            "Epoch======== 15\n",
            "Epoch======== 15\n",
            "Epoch======== 15\n",
            "Epoch======== 15\n",
            "Epoch======== 15\n",
            "Epoch======== 15\n",
            "Epoch======== 15\n",
            "Epoch======== 15\n",
            "Epoch======== 15\n",
            "Epoch======== 15\n",
            "Epoch======== 15\n",
            "Epoch======== 15\n",
            "Epoch======== 15\n",
            "Epoch======== 15\n",
            "Epoch======== 15\n",
            "Epoch======== 15\n",
            "Epoch======== 15\n",
            "Epoch======== 15\n",
            "Epoch======== 15\n",
            "Epoch======== 15\n",
            "Epoch======== 15\n",
            "Epoch======== 15\n",
            "Epoch======== 15\n",
            "Epoch======== 15\n",
            "Epoch======== 15\n",
            "Epoch======== 15\n",
            "Epoch======== 15\n",
            "Epoch======== 15\n",
            "Epoch======== 15\n",
            "Epoch======== 16\n",
            "Epoch======== 16\n",
            "Epoch======== 16\n",
            "Epoch======== 16\n",
            "Epoch======== 16\n",
            "Epoch======== 16\n",
            "Epoch======== 16\n",
            "Epoch======== 16\n",
            "Epoch======== 16\n",
            "Epoch======== 16\n",
            "Epoch======== 16\n",
            "Epoch======== 16\n",
            "Epoch======== 16\n",
            "Epoch======== 16\n",
            "Epoch======== 16\n",
            "Epoch======== 16\n",
            "Epoch======== 16\n",
            "Epoch======== 16\n",
            "Epoch======== 16\n",
            "Epoch======== 16\n",
            "Epoch======== 16\n",
            "Epoch======== 16\n",
            "Epoch======== 16\n",
            "Epoch======== 16\n",
            "Epoch======== 16\n",
            "Epoch======== 16\n",
            "Epoch======== 16\n",
            "Epoch======== 16\n",
            "Epoch======== 16\n",
            "Epoch======== 16\n",
            "Epoch======== 16\n",
            "Epoch======== 16\n",
            "Epoch======== 16\n",
            "Epoch======== 16\n",
            "Epoch======== 16\n",
            "Epoch======== 16\n",
            "Epoch======== 16\n",
            "Epoch======== 16\n",
            "Epoch======== 16\n",
            "Epoch======== 16\n",
            "Epoch======== 16\n",
            "Epoch======== 16\n",
            "Epoch======== 16\n",
            "Epoch======== 16\n",
            "Epoch======== 16\n",
            "Epoch======== 16\n",
            "Epoch======== 16\n",
            "Epoch======== 16\n",
            "Epoch======== 16\n",
            "Epoch======== 16\n",
            "Epoch======== 17\n",
            "Epoch======== 17\n",
            "Epoch======== 17\n",
            "Epoch======== 17\n",
            "Epoch======== 17\n",
            "Epoch======== 17\n",
            "Epoch======== 17\n",
            "Epoch======== 17\n",
            "Epoch======== 17\n",
            "Epoch======== 17\n",
            "Epoch======== 17\n",
            "Epoch======== 17\n",
            "Epoch======== 17\n",
            "Epoch======== 17\n",
            "Epoch======== 17\n",
            "Epoch======== 17\n",
            "Epoch======== 17\n",
            "Epoch======== 17\n",
            "Epoch======== 17\n",
            "Epoch======== 17\n",
            "Epoch======== 17\n",
            "Epoch======== 17\n",
            "Epoch======== 17\n",
            "Epoch======== 17\n",
            "Epoch======== 17\n",
            "Epoch======== 17\n",
            "Epoch======== 17\n",
            "Epoch======== 17\n",
            "Epoch======== 17\n",
            "Epoch======== 17\n",
            "Epoch======== 17\n",
            "Epoch======== 17\n",
            "Epoch======== 17\n",
            "Epoch======== 17\n",
            "Epoch======== 17\n",
            "Epoch======== 17\n",
            "Epoch======== 17\n",
            "Epoch======== 17\n",
            "Epoch======== 17\n",
            "Epoch======== 17\n",
            "Epoch======== 17\n",
            "Epoch======== 17\n",
            "Epoch======== 17\n",
            "Epoch======== 17\n",
            "Epoch======== 17\n",
            "Epoch======== 17\n",
            "Epoch======== 17\n",
            "Epoch======== 17\n",
            "Epoch======== 17\n",
            "Epoch======== 17\n",
            "Epoch======== 18\n",
            "Epoch======== 18\n",
            "Epoch======== 18\n",
            "Epoch======== 18\n",
            "Epoch======== 18\n",
            "Epoch======== 18\n",
            "Epoch======== 18\n",
            "Epoch======== 18\n",
            "Epoch======== 18\n",
            "Epoch======== 18\n",
            "Epoch======== 18\n",
            "Epoch======== 18\n",
            "Epoch======== 18\n",
            "Epoch======== 18\n",
            "Epoch======== 18\n",
            "Epoch======== 18\n",
            "Epoch======== 18\n",
            "Epoch======== 18\n",
            "Epoch======== 18\n",
            "Epoch======== 18\n",
            "Epoch======== 18\n",
            "Epoch======== 18\n",
            "Epoch======== 18\n",
            "Epoch======== 18\n",
            "Epoch======== 18\n",
            "Epoch======== 18\n",
            "Epoch======== 18\n",
            "Epoch======== 18\n",
            "Epoch======== 18\n",
            "Epoch======== 18\n",
            "Epoch======== 18\n",
            "Epoch======== 18\n",
            "Epoch======== 18\n",
            "Epoch======== 18\n",
            "Epoch======== 18\n",
            "Epoch======== 18\n",
            "Epoch======== 18\n",
            "Epoch======== 18\n",
            "Epoch======== 18\n",
            "Epoch======== 18\n",
            "Epoch======== 18\n",
            "Epoch======== 18\n",
            "Epoch======== 18\n",
            "Epoch======== 18\n",
            "Epoch======== 18\n",
            "Epoch======== 18\n",
            "Epoch======== 18\n",
            "Epoch======== 18\n",
            "Epoch======== 18\n",
            "Epoch======== 18\n",
            "Epoch======== 19\n",
            "Epoch======== 19\n",
            "Epoch======== 19\n",
            "Epoch======== 19\n",
            "Epoch======== 19\n",
            "Epoch======== 19\n",
            "Epoch======== 19\n",
            "Epoch======== 19\n",
            "Epoch======== 19\n",
            "Epoch======== 19\n",
            "Epoch======== 19\n",
            "Epoch======== 19\n",
            "Epoch======== 19\n",
            "Epoch======== 19\n",
            "Epoch======== 19\n",
            "Epoch======== 19\n",
            "Epoch======== 19\n",
            "Epoch======== 19\n",
            "Epoch======== 19\n",
            "Epoch======== 19\n",
            "Epoch======== 19\n",
            "Epoch======== 19\n",
            "Epoch======== 19\n",
            "Epoch======== 19\n",
            "Epoch======== 19\n",
            "Epoch======== 19\n",
            "Epoch======== 19\n",
            "Epoch======== 19\n",
            "Epoch======== 19\n",
            "Epoch======== 19\n",
            "Epoch======== 19\n",
            "Epoch======== 19\n",
            "Epoch======== 19\n",
            "Epoch======== 19\n",
            "Epoch======== 19\n",
            "Epoch======== 19\n",
            "Epoch======== 19\n",
            "Epoch======== 19\n",
            "Epoch======== 19\n",
            "Epoch======== 19\n",
            "Epoch======== 19\n",
            "Epoch======== 19\n",
            "Epoch======== 19\n",
            "Epoch======== 19\n",
            "Epoch======== 19\n",
            "Epoch======== 19\n",
            "Epoch======== 19\n",
            "Epoch======== 19\n",
            "Epoch======== 19\n",
            "Epoch======== 19\n",
            "Accuracy: 0.8503000140190125\n"
          ],
          "name": "stdout"
        }
      ]
    },
    {
      "cell_type": "code",
      "metadata": {
        "id": "_Iu1j2F7TpAF",
        "colab_type": "code",
        "colab": {}
      },
      "source": [
        "#Building a Sequential Feed Forward Network in Keras\n",
        "from tensorflow.keras.layers import Dense\n",
        "from tensorflow.keras.models import Sequential\n",
        "#Build the model object\n",
        "model = Sequential()\n",
        "#Build the input and the hidden layers\n",
        "model.add(Dense(256, activation='relu', input_shape=(new_dimension,)))\n",
        "model.add(Dense(128, activation='relu'))\n",
        "#Build the output layer \n",
        "model.add(Dense(no_labels, activation='softmax'))"
      ],
      "execution_count": null,
      "outputs": []
    },
    {
      "cell_type": "code",
      "metadata": {
        "id": "sR3GkN8OVV-g",
        "colab_type": "code",
        "colab": {}
      },
      "source": [
        "model.compile(optimizer='adam', loss=tf.keras.losses.categorical_crossentropy,\n",
        "              metrics=['accuracy'])"
      ],
      "execution_count": null,
      "outputs": []
    },
    {
      "cell_type": "code",
      "metadata": {
        "id": "6cZ1LCl1WAI-",
        "colab_type": "code",
        "colab": {
          "base_uri": "https://localhost:8080/",
          "height": 854
        },
        "outputId": "20470814-b695-417b-a553-5806ab9ddda7"
      },
      "source": [
        "history = model.fit(x_train, y_train, validation_data=(x_val, y_val), epochs=20, batch_size=1000)\n",
        "\n",
        "test_loss, test_accuracy = model.evaluate(test_images, y_test)\n",
        "print('Test loss: {}'.format(test_loss))\n",
        "print('Test accuracy: {}'.format(test_accuracy))"
      ],
      "execution_count": null,
      "outputs": [
        {
          "output_type": "stream",
          "text": [
            "Train on 50000 samples, validate on 10000 samples\n",
            "Epoch 1/20\n",
            "50000/50000 [==============================] - ETA: 0s - loss: 0.6790 - acc: 0.8198WARNING:tensorflow:From /usr/local/lib/python3.6/dist-packages/tensorflow/python/keras/engine/training_v1.py:2048: Model.state_updates (from tensorflow.python.keras.engine.training) is deprecated and will be removed in a future version.\n",
            "Instructions for updating:\n",
            "This property should not be used in TensorFlow 2.0, as updates are applied automatically.\n",
            "50000/50000 [==============================] - 1s 28us/sample - loss: 0.6790 - acc: 0.8198 - val_loss: 0.2525 - val_acc: 0.9310\n",
            "Epoch 2/20\n",
            "50000/50000 [==============================] - 1s 27us/sample - loss: 0.2299 - acc: 0.9334 - val_loss: 0.1813 - val_acc: 0.9495\n",
            "Epoch 3/20\n",
            "50000/50000 [==============================] - 1s 27us/sample - loss: 0.1682 - acc: 0.9520 - val_loss: 0.1423 - val_acc: 0.9631\n",
            "Epoch 4/20\n",
            "50000/50000 [==============================] - 1s 28us/sample - loss: 0.1296 - acc: 0.9630 - val_loss: 0.1235 - val_acc: 0.9667\n",
            "Epoch 5/20\n",
            "50000/50000 [==============================] - 1s 27us/sample - loss: 0.1042 - acc: 0.9699 - val_loss: 0.1092 - val_acc: 0.9690\n",
            "Epoch 6/20\n",
            "50000/50000 [==============================] - 1s 27us/sample - loss: 0.0850 - acc: 0.9756 - val_loss: 0.0961 - val_acc: 0.9725\n",
            "Epoch 7/20\n",
            "50000/50000 [==============================] - 1s 27us/sample - loss: 0.0715 - acc: 0.9799 - val_loss: 0.0919 - val_acc: 0.9715\n",
            "Epoch 8/20\n",
            "50000/50000 [==============================] - 1s 27us/sample - loss: 0.0583 - acc: 0.9837 - val_loss: 0.0891 - val_acc: 0.9721\n",
            "Epoch 9/20\n",
            "50000/50000 [==============================] - 1s 28us/sample - loss: 0.0512 - acc: 0.9857 - val_loss: 0.0827 - val_acc: 0.9760\n",
            "Epoch 10/20\n",
            "50000/50000 [==============================] - 1s 28us/sample - loss: 0.0434 - acc: 0.9885 - val_loss: 0.0785 - val_acc: 0.9774\n",
            "Epoch 11/20\n",
            "50000/50000 [==============================] - 1s 28us/sample - loss: 0.0373 - acc: 0.9899 - val_loss: 0.0833 - val_acc: 0.9750\n",
            "Epoch 12/20\n",
            "50000/50000 [==============================] - 1s 28us/sample - loss: 0.0331 - acc: 0.9912 - val_loss: 0.0797 - val_acc: 0.9768\n",
            "Epoch 13/20\n",
            "50000/50000 [==============================] - 1s 28us/sample - loss: 0.0264 - acc: 0.9933 - val_loss: 0.0756 - val_acc: 0.9776\n",
            "Epoch 14/20\n",
            "50000/50000 [==============================] - 1s 28us/sample - loss: 0.0219 - acc: 0.9952 - val_loss: 0.0745 - val_acc: 0.9794\n",
            "Epoch 15/20\n",
            "50000/50000 [==============================] - 1s 28us/sample - loss: 0.0184 - acc: 0.9963 - val_loss: 0.0739 - val_acc: 0.9785\n",
            "Epoch 16/20\n",
            "50000/50000 [==============================] - 1s 28us/sample - loss: 0.0166 - acc: 0.9967 - val_loss: 0.0759 - val_acc: 0.9776\n",
            "Epoch 17/20\n",
            "50000/50000 [==============================] - 1s 27us/sample - loss: 0.0134 - acc: 0.9975 - val_loss: 0.0767 - val_acc: 0.9785\n",
            "Epoch 18/20\n",
            "50000/50000 [==============================] - 1s 28us/sample - loss: 0.0127 - acc: 0.9975 - val_loss: 0.0770 - val_acc: 0.9778\n",
            "Epoch 19/20\n",
            "50000/50000 [==============================] - 1s 28us/sample - loss: 0.0099 - acc: 0.9986 - val_loss: 0.0737 - val_acc: 0.9789\n",
            "Epoch 20/20\n",
            "50000/50000 [==============================] - 1s 28us/sample - loss: 0.0082 - acc: 0.9990 - val_loss: 0.0746 - val_acc: 0.9795\n",
            "Test loss: 0.3330061695732526\n",
            "Test accuracy: 0.9789999723434448\n"
          ],
          "name": "stdout"
        }
      ]
    },
    {
      "cell_type": "code",
      "metadata": {
        "id": "UAL3Pk0_XCtz",
        "colab_type": "code",
        "colab": {
          "base_uri": "https://localhost:8080/",
          "height": 312
        },
        "outputId": "85da25fa-e954-4e40-d059-e5dfd448287d"
      },
      "source": [
        "#Check for Overfitting\n",
        "\n",
        "plt.figure()\n",
        "plt.plot(history.history['loss'], 'blue')\n",
        "plt.plot(history.history['val_loss'], 'red')\n",
        "plt.legend(['Training loss', 'Validation Loss'])\n",
        "plt.xlabel('Epochs')\n",
        "plt.ylabel('Loss')\n",
        "plt.title('Loss Curves - before regularisation')"
      ],
      "execution_count": null,
      "outputs": [
        {
          "output_type": "execute_result",
          "data": {
            "text/plain": [
              "Text(0.5, 1.0, 'Loss Curves - before regularisation')"
            ]
          },
          "metadata": {
            "tags": []
          },
          "execution_count": 36
        },
        {
          "output_type": "display_data",
          "data": {
            "image/png": "[encoded data removed]",
            "text/plain": [
              "<Figure size 432x288 with 1 Axes>"
            ]
          },
          "metadata": {
            "tags": [],
            "needs_background": "light"
          }
        }
      ]
    },
    {
      "cell_type": "code",
      "metadata": {
        "id": "JFXPbdQzYNiE",
        "colab_type": "code",
        "colab": {
          "base_uri": "https://localhost:8080/",
          "height": 781
        },
        "outputId": "b7d16f93-b07b-40c5-a392-16c745eecd7b"
      },
      "source": [
        "from tensorflow.keras.layers import Dropout\n",
        "reg_model = Sequential()\n",
        "reg_model.add(Dense(256, activation= 'relu', input_shape=(new_dimension,)))\n",
        "reg_model.add(Dropout(0.4))\n",
        "reg_model.add(Dense(128, activation= 'relu'))\n",
        "reg_model.add(Dropout(0.4))\n",
        "reg_model.add(Dense(no_labels, activation= 'softmax'))\n",
        "\n",
        "reg_model.compile(optimizer='adam', loss=tf.keras.losses.categorical_crossentropy,\n",
        "                  metrics= ['accuracy'])\n",
        "reg_history = reg_model.fit(x_train, y_train, validation_data=(x_val, y_val),\n",
        "                            \n",
        "                            epochs=20, batch_size=1000)\n",
        "test_loss, test_accuracy = reg_model.evaluate(test_images, y_test)\n",
        "print('Test loss: {}'.format(test_loss))\n",
        "print('Test accuracy: {}'.format(test_accuracy))"
      ],
      "execution_count": null,
      "outputs": [
        {
          "output_type": "stream",
          "text": [
            "Train on 50000 samples, validate on 10000 samples\n",
            "Epoch 1/20\n",
            "50000/50000 [==============================] - 2s 34us/sample - loss: 0.9667 - acc: 0.6942 - val_loss: 0.2939 - val_acc: 0.9170\n",
            "Epoch 2/20\n",
            "50000/50000 [==============================] - 2s 33us/sample - loss: 0.3830 - acc: 0.8865 - val_loss: 0.2031 - val_acc: 0.9428\n",
            "Epoch 3/20\n",
            "50000/50000 [==============================] - 2s 33us/sample - loss: 0.2845 - acc: 0.9162 - val_loss: 0.1614 - val_acc: 0.9546\n",
            "Epoch 4/20\n",
            "50000/50000 [==============================] - 2s 33us/sample - loss: 0.2329 - acc: 0.9328 - val_loss: 0.1367 - val_acc: 0.9614\n",
            "Epoch 5/20\n",
            "50000/50000 [==============================] - 2s 34us/sample - loss: 0.2010 - acc: 0.9419 - val_loss: 0.1208 - val_acc: 0.9645\n",
            "Epoch 6/20\n",
            "50000/50000 [==============================] - 2s 34us/sample - loss: 0.1771 - acc: 0.9484 - val_loss: 0.1107 - val_acc: 0.9673\n",
            "Epoch 7/20\n",
            "50000/50000 [==============================] - 2s 34us/sample - loss: 0.1615 - acc: 0.9521 - val_loss: 0.1036 - val_acc: 0.9694\n",
            "Epoch 8/20\n",
            "50000/50000 [==============================] - 2s 34us/sample - loss: 0.1448 - acc: 0.9573 - val_loss: 0.0963 - val_acc: 0.9703\n",
            "Epoch 9/20\n",
            "50000/50000 [==============================] - 2s 34us/sample - loss: 0.1313 - acc: 0.9608 - val_loss: 0.0909 - val_acc: 0.9731\n",
            "Epoch 10/20\n",
            "50000/50000 [==============================] - 2s 33us/sample - loss: 0.1233 - acc: 0.9639 - val_loss: 0.0877 - val_acc: 0.9738\n",
            "Epoch 11/20\n",
            "50000/50000 [==============================] - 2s 33us/sample - loss: 0.1110 - acc: 0.9668 - val_loss: 0.0848 - val_acc: 0.9745\n",
            "Epoch 12/20\n",
            "50000/50000 [==============================] - 2s 34us/sample - loss: 0.1034 - acc: 0.9695 - val_loss: 0.0803 - val_acc: 0.9764\n",
            "Epoch 13/20\n",
            "50000/50000 [==============================] - 2s 33us/sample - loss: 0.0971 - acc: 0.9705 - val_loss: 0.0783 - val_acc: 0.9767\n",
            "Epoch 14/20\n",
            "50000/50000 [==============================] - 2s 33us/sample - loss: 0.0892 - acc: 0.9726 - val_loss: 0.0787 - val_acc: 0.9766\n",
            "Epoch 15/20\n",
            "50000/50000 [==============================] - 2s 34us/sample - loss: 0.0883 - acc: 0.9730 - val_loss: 0.0767 - val_acc: 0.9772\n",
            "Epoch 16/20\n",
            "50000/50000 [==============================] - 2s 33us/sample - loss: 0.0826 - acc: 0.9745 - val_loss: 0.0739 - val_acc: 0.9779\n",
            "Epoch 17/20\n",
            "50000/50000 [==============================] - 2s 33us/sample - loss: 0.0776 - acc: 0.9759 - val_loss: 0.0733 - val_acc: 0.9772\n",
            "Epoch 18/20\n",
            "50000/50000 [==============================] - 2s 33us/sample - loss: 0.0737 - acc: 0.9771 - val_loss: 0.0715 - val_acc: 0.9789\n",
            "Epoch 19/20\n",
            "50000/50000 [==============================] - 2s 33us/sample - loss: 0.0728 - acc: 0.9769 - val_loss: 0.0714 - val_acc: 0.9804\n",
            "Epoch 20/20\n",
            "50000/50000 [==============================] - 2s 33us/sample - loss: 0.0662 - acc: 0.9791 - val_loss: 0.0729 - val_acc: 0.9786\n",
            "Test loss: 0.3347495187163353\n",
            "Test accuracy: 0.9785000085830688\n"
          ],
          "name": "stdout"
        }
      ]
    },
    {
      "cell_type": "code",
      "metadata": {
        "id": "sidso2ijdtbi",
        "colab_type": "code",
        "colab": {
          "base_uri": "https://localhost:8080/",
          "height": 52
        },
        "outputId": "3ab63da1-568f-4ced-eed1-470e52e0e0d1"
      },
      "source": [
        "test_loss, test_accuracy = reg_model.evaluate(test_images, y_test)\n",
        "print('Test loss: {}'.format(test_loss))\n",
        "print('Test accuracy: {}'.format(test_accuracy))"
      ],
      "execution_count": null,
      "outputs": [
        {
          "output_type": "stream",
          "text": [
            "Test loss: 0.3347495187163353\n",
            "Test accuracy: 0.9785000085830688\n"
          ],
          "name": "stdout"
        }
      ]
    },
    {
      "cell_type": "code",
      "metadata": {
        "id": "_OM79ftpepS2",
        "colab_type": "code",
        "colab": {
          "base_uri": "https://localhost:8080/",
          "height": 312
        },
        "outputId": "0f6c1996-c89b-4b2c-bc5f-73fb3455b17f"
      },
      "source": [
        "plt.figure()\n",
        "plt.plot(reg_history.history['loss'], 'blue')\n",
        "plt.plot(reg_history.history['val_loss'], 'red')\n",
        "plt.legend(['Training loss', 'Validation Loss'])\n",
        "plt.xlabel('Epochs')\n",
        "plt.ylabel('Loss')\n",
        "plt.title('Loss Curve - after regularisation')"
      ],
      "execution_count": null,
      "outputs": [
        {
          "output_type": "execute_result",
          "data": {
            "text/plain": [
              "Text(0.5, 1.0, 'Loss Curve - after regularisation')"
            ]
          },
          "metadata": {
            "tags": []
          },
          "execution_count": 40
        },
        {
          "output_type": "display_data",
          "data": {
            "image/png": "[encoded data removed]",
            "text/plain": [
              "<Figure size 432x288 with 1 Axes>"
            ]
          },
          "metadata": {
            "tags": [],
            "needs_background": "light"
          }
        }
      ]
    },
    {
      "cell_type": "code",
      "metadata": {
        "id": "cI7lBeQCflo1",
        "colab_type": "code",
        "colab": {
          "base_uri": "https://localhost:8080/",
          "height": 34
        },
        "outputId": "14156f8c-42eb-456d-ad80-bbb5a8315c1b"
      },
      "source": [
        "predictions = model.predict([test_images])\n",
        "#make prediction\n",
        "print(np.argmax(predictions[1000]))"
      ],
      "execution_count": null,
      "outputs": [
        {
          "output_type": "stream",
          "text": [
            "9\n"
          ],
          "name": "stdout"
        }
      ]
    },
    {
      "cell_type": "code",
      "metadata": {
        "id": "Yoz_qXvCf-fu",
        "colab_type": "code",
        "colab": {
          "base_uri": "https://localhost:8080/",
          "height": 198
        },
        "outputId": "58ffb918-9ee3-49b3-9024-e92dea4b4500"
      },
      "source": [
        "#Let's se if the image would turn out to be 9\n",
        "#Remember that the input data to the network were flattened for the purpose of learning to a vector with a length of 784. Before displaying it, we need to convert it back\n",
        "#to the size of 28 x 28 pixels.\n",
        "plt.figure(figsize=(8, 5))\n",
        "\n",
        "plt.subplot(1,3,1)\n",
        "plt.imshow(test_images[1000].reshape(28,28), cmap=\"gray\")\n",
        "#import the image\n",
        "plt.show"
      ],
      "execution_count": null,
      "outputs": [
        {
          "output_type": "execute_result",
          "data": {
            "text/plain": [
              "<function matplotlib.pyplot.show>"
            ]
          },
          "metadata": {
            "tags": []
          },
          "execution_count": 42
        },
        {
          "output_type": "display_data",
          "data": {
            "image/png": "[encoded data removed]",
            "text/plain": [
              "<Figure size 576x360 with 1 Axes>"
            ]
          },
          "metadata": {
            "tags": [],
            "needs_background": "light"
          }
        }
      ]
    },
    {
      "cell_type": "code",
      "metadata": {
        "id": "oKZDJuVghM0V",
        "colab_type": "code",
        "colab": {
          "base_uri": "https://localhost:8080/",
          "height": 34
        },
        "outputId": "c8bfc3a6-9ac6-47f3-c224-e3ca025d82e1"
      },
      "source": [
        "predictions = model.predict([test_images])\n",
        "#make prediction\n",
        "print(np.argmax(predictions[6700]))"
      ],
      "execution_count": null,
      "outputs": [
        {
          "output_type": "stream",
          "text": [
            "4\n"
          ],
          "name": "stdout"
        }
      ]
    },
    {
      "cell_type": "code",
      "metadata": {
        "id": "zSHW6U9ghm5M",
        "colab_type": "code",
        "colab": {
          "base_uri": "https://localhost:8080/",
          "height": 181
        },
        "outputId": "f0d9af4b-3855-4162-9901-27819e5d56a1"
      },
      "source": [
        "plt.figure(figsize=(8,5))\n",
        "\n",
        "plt.subplot(1,3,1)\n",
        "plt.imshow(test_images[6700].reshape(28,28), cmap=\"gray\")\n",
        "plt.show()"
      ],
      "execution_count": null,
      "outputs": [
        {
          "output_type": "display_data",
          "data": {
            "image/png": "[encoded data removed]",
            "text/plain": [
              "<Figure size 576x360 with 1 Axes>"
            ]
          },
          "metadata": {
            "tags": [],
            "needs_background": "light"
          }
        }
      ]
    }
  ]
}